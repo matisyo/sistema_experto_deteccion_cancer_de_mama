{
 "cells": [
  {
   "cell_type": "code",
   "execution_count": 1,
   "id": "constitutional-favorite",
   "metadata": {},
   "outputs": [],
   "source": [
    "from custom_engine import *"
   ]
  },
  {
   "cell_type": "code",
   "execution_count": 8,
   "id": "specific-million",
   "metadata": {},
   "outputs": [
    {
     "name": "stdout",
     "output_type": "stream",
     "text": [
      "El paciente padece de cancer de mama ductal\n"
     ]
    }
   ],
   "source": [
    "ask_expert(n=\"mitosis en estallido,hipercromaticos,irregulares,amoldamiento\",\n",
    "           c=\"vacuolado,pleomorfismo,rosado\",\n",
    "           canibalismo=\"presente\",\n",
    "           bn=\"irregular\",\n",
    "           arq=\"ductos rudimentarios\")"
   ]
  },
  {
   "cell_type": "code",
   "execution_count": 6,
   "id": "funny-public",
   "metadata": {},
   "outputs": [
    {
     "name": "stdout",
     "output_type": "stream",
     "text": [
      "Existe aun la posibilidad de que el paciente padezca cancer de mama ductal\n",
      "Existe aun la posibilidad de que el paciente padezca tumor phyllodes benigno\n"
     ]
    }
   ],
   "source": [
    "ask_expert(n=\"mitosis en estallido,hipercromaticos,irregulares,amoldamiento\",\n",
    "           c=\"vacuolado,pleomorfismo,rosado\",           \n",
    "           bn=\"irregular\",\n",
    "           arq=\"ductos rudimentarios\")"
   ]
  },
  {
   "cell_type": "code",
   "execution_count": 4,
   "id": "american-damage",
   "metadata": {},
   "outputs": [
    {
     "name": "stdout",
     "output_type": "stream",
     "text": [
      "Existe aun la posibilidad de que el paciente padezca cancer de mama lobulillar\n",
      "Existe aun la posibilidad de que el paciente padezca cancer de mama mucinoso\n",
      "Existe aun la posibilidad de que el paciente padezca cancer de mama ductal\n",
      "Existe aun la posibilidad de que el paciente padezca tumor phyllodes maligno\n"
     ]
    }
   ],
   "source": [
    "ask_expert(bn=\"irregular\")"
   ]
  },
  {
   "cell_type": "code",
   "execution_count": 5,
   "id": "comprehensive-cameroon",
   "metadata": {},
   "outputs": [
    {
     "name": "stdout",
     "output_type": "stream",
     "text": [
      "Dadas las caracteristicas no logramos distinguir si el tumor corresponde a los tipos de cancer conocidos por el experto.\n"
     ]
    }
   ],
   "source": [
    "ask_expert(bn=\"irregular\",canibalismo=\"ausente\",arq=\"ductos rudimentarios\")"
   ]
  },
  {
   "cell_type": "code",
   "execution_count": null,
   "id": "supported-boating",
   "metadata": {},
   "outputs": [],
   "source": []
  },
  {
   "cell_type": "code",
   "execution_count": null,
   "id": "white-thunder",
   "metadata": {},
   "outputs": [],
   "source": []
  },
  {
   "cell_type": "code",
   "execution_count": null,
   "id": "bibliographic-munich",
   "metadata": {},
   "outputs": [],
   "source": []
  }
 ],
 "metadata": {
  "kernelspec": {
   "display_name": "Python 3",
   "language": "python",
   "name": "python3"
  },
  "language_info": {
   "codemirror_mode": {
    "name": "ipython",
    "version": 3
   },
   "file_extension": ".py",
   "mimetype": "text/x-python",
   "name": "python",
   "nbconvert_exporter": "python",
   "pygments_lexer": "ipython3",
   "version": "3.7.9"
  }
 },
 "nbformat": 4,
 "nbformat_minor": 5
}
