{
 "cells": [
  {
   "cell_type": "code",
   "execution_count": 1,
   "id": "reverse-intellectual",
   "metadata": {},
   "outputs": [],
   "source": [
    "from custom_engine import *"
   ]
  },
  {
   "cell_type": "code",
   "execution_count": 8,
   "id": "automotive-ensemble",
   "metadata": {},
   "outputs": [
    {
     "name": "stdout",
     "output_type": "stream",
     "text": [
      "El paciente padece de cancer de mama ductal\n"
     ]
    }
   ],
   "source": [
    "ask_expert(n=\"mitosis en estallido,hipercromaticos,irregulares,amoldamiento\",\n",
    "           c=\"vacuolado,pleomorfismo,rosado\",\n",
    "           canibalismo=\"presente\",\n",
    "           bn=\"irregular\",\n",
    "           arq=\"ductos rudimentarios\")"
   ]
  },
  {
   "cell_type": "code",
   "execution_count": 6,
   "id": "friendly-nicaragua",
   "metadata": {},
   "outputs": [
    {
     "name": "stdout",
     "output_type": "stream",
     "text": [
      "Existe aun la posibilidad de que el paciente padezca cancer de mama ductal\n",
      "Existe aun la posibilidad de que el paciente padezca tumor phyllodes benigno\n"
     ]
    }
   ],
   "source": [
    "ask_expert(n=\"mitosis en estallido,hipercromaticos,irregulares,amoldamiento\",\n",
    "           c=\"vacuolado,pleomorfismo,rosado\",           \n",
    "           bn=\"irregular\",\n",
    "           arq=\"ductos rudimentarios\")"
   ]
  },
  {
   "cell_type": "code",
   "execution_count": 4,
   "id": "fitted-amazon",
   "metadata": {},
   "outputs": [
    {
     "name": "stdout",
     "output_type": "stream",
     "text": [
      "Existe aun la posibilidad de que el paciente padezca cancer de mama lobulillar\n",
      "Existe aun la posibilidad de que el paciente padezca cancer de mama mucinoso\n",
      "Existe aun la posibilidad de que el paciente padezca cancer de mama ductal\n",
      "Existe aun la posibilidad de que el paciente padezca tumor phyllodes maligno\n"
     ]
    }
   ],
   "source": [
    "ask_expert(bn=\"irregular\")"
   ]
  },
  {
   "cell_type": "code",
   "execution_count": 5,
   "id": "wicked-cleaner",
   "metadata": {},
   "outputs": [
    {
     "name": "stdout",
     "output_type": "stream",
     "text": [
      "Dadas las caracteristicas no logramos distinguir si el tumor corresponde a los tipos de cancer conocidos por el experto.\n"
     ]
    }
   ],
   "source": [
    "ask_expert(bn=\"irregular\",canibalismo=\"ausente\",arq=\"ductos rudimentarios\")"
   ]
  },
  {
   "cell_type": "code",
   "execution_count": null,
   "id": "comfortable-ribbon",
   "metadata": {},
   "outputs": [],
   "source": []
  },
  {
   "cell_type": "code",
   "execution_count": null,
   "id": "elegant-spectacular",
   "metadata": {},
   "outputs": [],
   "source": []
  },
  {
   "cell_type": "code",
   "execution_count": null,
   "id": "announced-shoot",
   "metadata": {},
   "outputs": [],
   "source": []
  },
  {
   "cell_type": "code",
   "execution_count": null,
   "id": "given-radiation",
   "metadata": {},
   "outputs": [],
   "source": []
  },
  {
   "cell_type": "code",
   "execution_count": null,
   "id": "widespread-draft",
   "metadata": {},
   "outputs": [],
   "source": []
  },
  {
   "cell_type": "code",
   "execution_count": null,
   "id": "alive-alberta",
   "metadata": {},
   "outputs": [],
   "source": [
    "def ask_expert(bn=NADA,arq=NADA,canibalismo=NADA,n=NADA,nc=NADA,c=NADA,necro=NADA):\n",
    "    if len(engine.RESPUESTA[1])==0 and len(engine.RESPUESTA[0])==0:\n",
    "        print(\"Dadas las caracteristicas no logramos distinguir si el tumor corresponde a los tipos de cancer conocidos por el experto.\")\n",
    "    else:\n",
    "        if len(engine.RESPUESTA[1])!=0:\n",
    "            print(f\"El paciente padece de {engine.RESPUESTA[1][0]}\")\n",
    "        else:\n",
    "            for n in set(engine.RESPUESTA[0]):\n",
    "                print(f\"Existe aun la posibilidad de que el paciente padezca {n}\")"
   ]
  }
 ],
 "metadata": {
  "kernelspec": {
   "display_name": "Python 3",
   "language": "python",
   "name": "python3"
  },
  "language_info": {
   "codemirror_mode": {
    "name": "ipython",
    "version": 3
   },
   "file_extension": ".py",
   "mimetype": "text/x-python",
   "name": "python",
   "nbconvert_exporter": "python",
   "pygments_lexer": "ipython3",
   "version": "3.7.9"
  }
 },
 "nbformat": 4,
 "nbformat_minor": 5
}
