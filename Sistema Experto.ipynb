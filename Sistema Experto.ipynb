{
 "cells": [
  {
   "cell_type": "code",
   "execution_count": 2,
   "metadata": {},
   "outputs": [
    {
     "name": "stdout",
     "output_type": "stream",
     "text": [
      "El paciente padece de cancer de mama mucinoso\n"
     ]
    }
   ],
   "source": [
    "from utils.utils import *\n",
    "ask_expert(bn=\"irregular\",nc=\"aumentado\",c=\"vacuolado,pleomorfismo,rosado\",\n",
    "           n=\"mitosis en estallido\",arq=\"lagos de mucinas\")"
   ]
  },
  {
   "cell_type": "code",
   "execution_count": 3,
   "metadata": {},
   "outputs": [
    {
     "name": "stdout",
     "output_type": "stream",
     "text": [
      "Existe aun la posibilidad de que el paciente padezca cancer de mama mucinoso\n",
      "Existe aun la posibilidad de que el paciente padezca cancer de mama ductal\n",
      "Existe aun la posibilidad de que el paciente padezca tumor phyllodes maligno\n",
      "Existe aun la posibilidad de que el paciente padezca cancer de mama lobulillar\n"
     ]
    }
   ],
   "source": [
    "ask_expert(bn=\"irregular\")"
   ]
  },
  {
   "cell_type": "code",
   "execution_count": null,
   "metadata": {},
   "outputs": [],
   "source": []
  },
  {
   "cell_type": "code",
   "execution_count": null,
   "metadata": {},
   "outputs": [],
   "source": []
  },
  {
   "cell_type": "code",
   "execution_count": null,
   "metadata": {},
   "outputs": [],
   "source": []
  },
  {
   "cell_type": "code",
   "execution_count": null,
   "metadata": {},
   "outputs": [],
   "source": []
  },
  {
   "cell_type": "code",
   "execution_count": null,
   "metadata": {},
   "outputs": [],
   "source": []
  },
  {
   "cell_type": "code",
   "execution_count": null,
   "metadata": {},
   "outputs": [],
   "source": []
  }
 ],
 "metadata": {
  "kernelspec": {
   "display_name": "Python 3",
   "language": "python",
   "name": "python3"
  },
  "language_info": {
   "codemirror_mode": {
    "name": "ipython",
    "version": 3
   },
   "file_extension": ".py",
   "mimetype": "text/x-python",
   "name": "python",
   "nbconvert_exporter": "python",
   "pygments_lexer": "ipython3",
   "version": "3.7.0"
  }
 },
 "nbformat": 4,
 "nbformat_minor": 4
}
