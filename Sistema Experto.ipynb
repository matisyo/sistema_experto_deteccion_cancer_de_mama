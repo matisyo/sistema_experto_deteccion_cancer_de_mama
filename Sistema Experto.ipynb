{
 "cells": [
  {
   "cell_type": "markdown",
   "metadata": {},
   "source": [
    "Tener en cuenta los nombres de los parámetros como:\n",
    "    * n = Núcleo\n",
    "    * c = Citoplasma\n",
    "    * nc = Relación núcleo citoplasma\n",
    "    * arq = Arquitectura\n",
    "    * bn = Borde Nuclear\n",
    "    * canibalismo = Canibalismo\n",
    "    * necro = Necrosis Tumoral"
   ]
  },
  {
   "cell_type": "code",
   "execution_count": 4,
   "metadata": {},
   "outputs": [
    {
     "name": "stdout",
     "output_type": "stream",
     "text": [
      "El paciente padece de cancer de mama ductal\n"
     ]
    }
   ],
   "source": [
    "from utils.utils import *\n",
    "ask_expert(n=\"mitosis en estallido,hipercromaticos,irregulares,amoldamiento\",\n",
    "           c=\"vacuolado,pleomorfismo,rosado\",\n",
    "           canibalismo=\"presente\",\n",
    "           bn=\"irregular\",\n",
    "           arq=\"ductos rudimentarios\")"
   ]
  },
  {
   "cell_type": "code",
   "execution_count": 9,
   "metadata": {},
   "outputs": [
    {
     "name": "stdout",
     "output_type": "stream",
     "text": [
      "Existe aun la posibilidad de que el paciente padezca cancer de mama ductal\n"
     ]
    }
   ],
   "source": [
    "#Quitamos canibalismo\n",
    "ask_expert(n=\"mitosis en estallido,hipercromaticos,irregulares,amoldamiento\",\n",
    "           c=\"vacuolado,pleomorfismo,rosado\",           \n",
    "           bn=\"irregular\",\n",
    "           arq=\"ductos rudimentarios\")"
   ]
  },
  {
   "cell_type": "code",
   "execution_count": 10,
   "metadata": {},
   "outputs": [
    {
     "name": "stdout",
     "output_type": "stream",
     "text": [
      "Existe aun la posibilidad de que el paciente padezca cancer de mama mucinoso\n",
      "Existe aun la posibilidad de que el paciente padezca cancer de mama ductal\n",
      "Existe aun la posibilidad de que el paciente padezca tumor phyllodes maligno\n",
      "Existe aun la posibilidad de que el paciente padezca cancer de mama lobulillar\n"
     ]
    }
   ],
   "source": [
    "#Dejamos solo la caracteristica del borde nuclear\n",
    "ask_expert(bn=\"irregular\")"
   ]
  },
  {
   "cell_type": "code",
   "execution_count": 11,
   "metadata": {},
   "outputs": [
    {
     "name": "stdout",
     "output_type": "stream",
     "text": [
      "Dadas las caracteristicas no logramos distinguir si el tumor corresponde a los tipos de cancer conocidos por el experto.\n"
     ]
    }
   ],
   "source": [
    "#Completamos con casos que no tienen sentido\n",
    "ask_expert(bn=\"irregular\",canibalismo=\"ausente\",arq=\"ductos rudimentarios\")"
   ]
  },
  {
   "cell_type": "code",
   "execution_count": null,
   "metadata": {},
   "outputs": [],
   "source": []
  },
  {
   "cell_type": "code",
   "execution_count": null,
   "metadata": {},
   "outputs": [],
   "source": []
  },
  {
   "cell_type": "code",
   "execution_count": null,
   "metadata": {},
   "outputs": [],
   "source": []
  },
  {
   "cell_type": "code",
   "execution_count": null,
   "metadata": {},
   "outputs": [],
   "source": []
  },
  {
   "cell_type": "code",
   "execution_count": null,
   "metadata": {},
   "outputs": [],
   "source": []
  }
 ],
 "metadata": {
  "kernelspec": {
   "display_name": "Python 3",
   "language": "python",
   "name": "python3"
  },
  "language_info": {
   "codemirror_mode": {
    "name": "ipython",
    "version": 3
   },
   "file_extension": ".py",
   "mimetype": "text/x-python",
   "name": "python",
   "nbconvert_exporter": "python",
   "pygments_lexer": "ipython3",
   "version": "3.7.0"
  }
 },
 "nbformat": 4,
 "nbformat_minor": 4
}
